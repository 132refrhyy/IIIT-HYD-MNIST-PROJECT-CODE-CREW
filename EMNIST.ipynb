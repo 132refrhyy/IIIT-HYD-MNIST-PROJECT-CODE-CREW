{
  "cells": [
    {
      "cell_type": "markdown",
      "metadata": {
        "id": "view-in-github",
        "colab_type": "text"
      },
      "source": [
        "<a href=\"https://colab.research.google.com/github/132refrhyy/IIIT-HYD-MNIST-PROJECT-CODE-CREW/blob/main/EMNIST.ipynb\" target=\"_parent\"><img src=\"https://colab.research.google.com/assets/colab-badge.svg\" alt=\"Open In Colab\"/></a>"
      ]
    },
    {
      "cell_type": "markdown",
      "metadata": {
        "id": "fLkgawEV9F3i"
      },
      "source": [
        "**CNN**:CNN stands for (Convolutional neural network).CNNs are a kind of deep learning model that handles structured grid data, like images. CNNs have layers of convolutional filters, which detect features; pooling layers, which reduces dimensionality; and fully connected layers, for classification/prediction."
      ]
    },
    {
      "cell_type": "markdown",
      "metadata": {
        "id": "8Aw5R06o9Fz5"
      },
      "source": [
        "**GNN:**GNN stands for (Graph neural network).GNNs are a form of deep learning model intended for analyzing data that is represented as graphs, where nodes are entities, and edges are relationships. Information aggregation and propagation is the main feature of Graph neural networks, using layers that traverse through the nodes, capturing dependencies and modeling patterns there might be in the graph data."
      ]
    },
    {
      "cell_type": "markdown",
      "metadata": {
        "id": "tZox-lJ6-PR-"
      },
      "source": [
        "**->Step 1:Installing necessary libraries**"
      ]
    },
    {
      "cell_type": "code",
      "execution_count": null,
      "metadata": {
        "colab": {
          "base_uri": "https://localhost:8080/"
        },
        "id": "G-tLm2ac9DiK",
        "outputId": "31f019cc-fe36-44a5-c5f4-dad0a9de9f48"
      },
      "outputs": [
        {
          "output_type": "stream",
          "name": "stdout",
          "text": [
            "Requirement already satisfied: torch in /usr/local/lib/python3.10/dist-packages (2.3.1+cu121)\n",
            "Requirement already satisfied: torchvision in /usr/local/lib/python3.10/dist-packages (0.18.1+cu121)\n",
            "Requirement already satisfied: matplotlib in /usr/local/lib/python3.10/dist-packages (3.7.1)\n",
            "Requirement already satisfied: filelock in /usr/local/lib/python3.10/dist-packages (from torch) (3.15.4)\n",
            "Requirement already satisfied: typing-extensions>=4.8.0 in /usr/local/lib/python3.10/dist-packages (from torch) (4.12.2)\n",
            "Requirement already satisfied: sympy in /usr/local/lib/python3.10/dist-packages (from torch) (1.13.0)\n",
            "Requirement already satisfied: networkx in /usr/local/lib/python3.10/dist-packages (from torch) (3.3)\n",
            "Requirement already satisfied: jinja2 in /usr/local/lib/python3.10/dist-packages (from torch) (3.1.4)\n",
            "Requirement already satisfied: fsspec in /usr/local/lib/python3.10/dist-packages (from torch) (2023.6.0)\n",
            "Collecting nvidia-cuda-nvrtc-cu12==12.1.105 (from torch)\n",
            "  Using cached nvidia_cuda_nvrtc_cu12-12.1.105-py3-none-manylinux1_x86_64.whl (23.7 MB)\n",
            "Collecting nvidia-cuda-runtime-cu12==12.1.105 (from torch)\n",
            "  Using cached nvidia_cuda_runtime_cu12-12.1.105-py3-none-manylinux1_x86_64.whl (823 kB)\n",
            "Collecting nvidia-cuda-cupti-cu12==12.1.105 (from torch)\n",
            "  Using cached nvidia_cuda_cupti_cu12-12.1.105-py3-none-manylinux1_x86_64.whl (14.1 MB)\n",
            "Collecting nvidia-cudnn-cu12==8.9.2.26 (from torch)\n",
            "  Using cached nvidia_cudnn_cu12-8.9.2.26-py3-none-manylinux1_x86_64.whl (731.7 MB)\n",
            "Collecting nvidia-cublas-cu12==12.1.3.1 (from torch)\n",
            "  Using cached nvidia_cublas_cu12-12.1.3.1-py3-none-manylinux1_x86_64.whl (410.6 MB)\n",
            "Collecting nvidia-cufft-cu12==11.0.2.54 (from torch)\n",
            "  Using cached nvidia_cufft_cu12-11.0.2.54-py3-none-manylinux1_x86_64.whl (121.6 MB)\n",
            "Collecting nvidia-curand-cu12==10.3.2.106 (from torch)\n",
            "  Using cached nvidia_curand_cu12-10.3.2.106-py3-none-manylinux1_x86_64.whl (56.5 MB)\n",
            "Collecting nvidia-cusolver-cu12==11.4.5.107 (from torch)\n",
            "  Using cached nvidia_cusolver_cu12-11.4.5.107-py3-none-manylinux1_x86_64.whl (124.2 MB)\n",
            "Collecting nvidia-cusparse-cu12==12.1.0.106 (from torch)\n",
            "  Using cached nvidia_cusparse_cu12-12.1.0.106-py3-none-manylinux1_x86_64.whl (196.0 MB)\n",
            "Collecting nvidia-nccl-cu12==2.20.5 (from torch)\n",
            "  Using cached nvidia_nccl_cu12-2.20.5-py3-none-manylinux2014_x86_64.whl (176.2 MB)\n",
            "Collecting nvidia-nvtx-cu12==12.1.105 (from torch)\n",
            "  Using cached nvidia_nvtx_cu12-12.1.105-py3-none-manylinux1_x86_64.whl (99 kB)\n",
            "Requirement already satisfied: triton==2.3.1 in /usr/local/lib/python3.10/dist-packages (from torch) (2.3.1)\n",
            "Collecting nvidia-nvjitlink-cu12 (from nvidia-cusolver-cu12==11.4.5.107->torch)\n",
            "  Downloading nvidia_nvjitlink_cu12-12.5.82-py3-none-manylinux2014_x86_64.whl (21.3 MB)\n",
            "\u001b[2K     \u001b[90m━━━━━━━━━━━━━━━━━━━━━━━━━━━━━━━━━━━━━━━━\u001b[0m \u001b[32m21.3/21.3 MB\u001b[0m \u001b[31m51.3 MB/s\u001b[0m eta \u001b[36m0:00:00\u001b[0m\n",
            "\u001b[?25hRequirement already satisfied: numpy in /usr/local/lib/python3.10/dist-packages (from torchvision) (1.25.2)\n",
            "Requirement already satisfied: pillow!=8.3.*,>=5.3.0 in /usr/local/lib/python3.10/dist-packages (from torchvision) (9.4.0)\n",
            "Requirement already satisfied: contourpy>=1.0.1 in /usr/local/lib/python3.10/dist-packages (from matplotlib) (1.2.1)\n",
            "Requirement already satisfied: cycler>=0.10 in /usr/local/lib/python3.10/dist-packages (from matplotlib) (0.12.1)\n",
            "Requirement already satisfied: fonttools>=4.22.0 in /usr/local/lib/python3.10/dist-packages (from matplotlib) (4.53.1)\n",
            "Requirement already satisfied: kiwisolver>=1.0.1 in /usr/local/lib/python3.10/dist-packages (from matplotlib) (1.4.5)\n",
            "Requirement already satisfied: packaging>=20.0 in /usr/local/lib/python3.10/dist-packages (from matplotlib) (24.1)\n",
            "Requirement already satisfied: pyparsing>=2.3.1 in /usr/local/lib/python3.10/dist-packages (from matplotlib) (3.1.2)\n",
            "Requirement already satisfied: python-dateutil>=2.7 in /usr/local/lib/python3.10/dist-packages (from matplotlib) (2.8.2)\n",
            "Requirement already satisfied: six>=1.5 in /usr/local/lib/python3.10/dist-packages (from python-dateutil>=2.7->matplotlib) (1.16.0)\n",
            "Requirement already satisfied: MarkupSafe>=2.0 in /usr/local/lib/python3.10/dist-packages (from jinja2->torch) (2.1.5)\n",
            "Requirement already satisfied: mpmath<1.4,>=1.1.0 in /usr/local/lib/python3.10/dist-packages (from sympy->torch) (1.3.0)\n",
            "Installing collected packages: nvidia-nvtx-cu12, nvidia-nvjitlink-cu12, nvidia-nccl-cu12, nvidia-curand-cu12, nvidia-cufft-cu12, nvidia-cuda-runtime-cu12, nvidia-cuda-nvrtc-cu12, nvidia-cuda-cupti-cu12, nvidia-cublas-cu12, nvidia-cusparse-cu12, nvidia-cudnn-cu12, nvidia-cusolver-cu12\n",
            "Successfully installed nvidia-cublas-cu12-12.1.3.1 nvidia-cuda-cupti-cu12-12.1.105 nvidia-cuda-nvrtc-cu12-12.1.105 nvidia-cuda-runtime-cu12-12.1.105 nvidia-cudnn-cu12-8.9.2.26 nvidia-cufft-cu12-11.0.2.54 nvidia-curand-cu12-10.3.2.106 nvidia-cusolver-cu12-11.4.5.107 nvidia-cusparse-cu12-12.1.0.106 nvidia-nccl-cu12-2.20.5 nvidia-nvjitlink-cu12-12.5.82 nvidia-nvtx-cu12-12.1.105\n"
          ]
        }
      ],
      "source": [
        "!pip install torch torchvision matplotlib"
      ]
    },
    {
      "cell_type": "markdown",
      "metadata": {
        "id": "lqbgDMEX_mfx"
      },
      "source": [
        "**->Step 2:Import Libraries**"
      ]
    },
    {
      "cell_type": "code",
      "execution_count": null,
      "metadata": {
        "id": "qYwkiZK5_y_R"
      },
      "outputs": [],
      "source": [
        "import torch\n",
        "import torch.nn as nn\n",
        "import torch.optim as optim\n",
        "import torch.nn.functional as F\n",
        "from torchvision import datasets, transforms\n",
        "import matplotlib.pyplot as plt"
      ]
    },
    {
      "cell_type": "markdown",
      "metadata": {
        "id": "C3DvP8Se_7p2"
      },
      "source": [
        "**->Step 3:Define Transformation of Dataset**\n",
        "\n",
        "The process transformation of dataset turns dataset images into tensors. It also normalizes them. This means they end up with a mean of 0.5 and a standard deviation of 0.5.\n",
        "\n",
        "\n"
      ]
    },
    {
      "cell_type": "code",
      "execution_count": null,
      "metadata": {
        "id": "9evf8LR1AJeX"
      },
      "outputs": [],
      "source": [
        "transform = transforms.Compose([\n",
        "    transforms.ToTensor(),\n",
        "    transforms.Normalize((0.5,), (0.5,)) ])"
      ]
    },
    {
      "cell_type": "markdown",
      "metadata": {
        "id": "PKx2lN9VCJl1"
      },
      "source": [
        "**->Step 4:Load the MNIST Dataset**"
      ]
    },
    {
      "cell_type": "code",
      "execution_count": null,
      "metadata": {
        "colab": {
          "base_uri": "https://localhost:8080/"
        },
        "id": "PcPGVYvuCcao",
        "outputId": "6d686725-8076-443a-921a-96c7bc285de0"
      },
      "outputs": [
        {
          "output_type": "stream",
          "name": "stdout",
          "text": [
            "Downloading https://biometrics.nist.gov/cs_links/EMNIST/gzip.zip to ./data/EMNIST/raw/gzip.zip\n"
          ]
        },
        {
          "output_type": "stream",
          "name": "stderr",
          "text": [
            "100%|██████████| 561753746/561753746 [00:09<00:00, 61534635.26it/s]\n"
          ]
        },
        {
          "output_type": "stream",
          "name": "stdout",
          "text": [
            "Extracting ./data/EMNIST/raw/gzip.zip to ./data/EMNIST/raw\n"
          ]
        }
      ],
      "source": [
        "train_dataset = datasets.EMNIST(root='./data', split='balanced', train=True, download=True, transform=transform)\n",
        "test_dataset = datasets.EMNIST(root='./data', split='balanced', train=False, download=True, transform=transform)"
      ]
    },
    {
      "cell_type": "markdown",
      "metadata": {
        "id": "o4UwM62uCtrV"
      },
      "source": [
        "**->Step5:Create Dataloader**\n",
        "\n",
        "DataLoader has an impact on how the dataset is arranged. It breaks the data into small chunks, mixes them up, and takes care of loading data for training and testing."
      ]
    },
    {
      "cell_type": "code",
      "execution_count": null,
      "metadata": {
        "id": "C7toJ7mODTwS"
      },
      "outputs": [],
      "source": [
        "train_loader = torch.utils.data.DataLoader(train_dataset, batch_size=64, shuffle=True)\n",
        "test_loader = torch.utils.data.DataLoader(test_dataset, batch_size=1000, shuffle=False)"
      ]
    },
    {
      "cell_type": "markdown",
      "metadata": {
        "id": "0RzCHE38DY8T"
      },
      "source": [
        "**->Step6:Print number of sets in each set**"
      ]
    },
    {
      "cell_type": "code",
      "execution_count": null,
      "metadata": {
        "colab": {
          "base_uri": "https://localhost:8080/"
        },
        "id": "zHL4jKI-DlBn",
        "outputId": "fb062a96-55ff-49c7-8026-cc6dd9f02e12"
      },
      "outputs": [
        {
          "output_type": "stream",
          "name": "stdout",
          "text": [
            "Number of training samples: 112800\n",
            "Number of test samples: 18800\n"
          ]
        }
      ],
      "source": [
        "print(f\"Number of training samples: {len(train_dataset)}\")\n",
        "print(f\"Number of test samples: {len(test_dataset)}\")"
      ]
    },
    {
      "cell_type": "markdown",
      "metadata": {
        "id": "Q4yO1VYdDpZ2"
      },
      "source": [
        "**->Step7:Define CNN Model**\n",
        "\n",
        "Two layers that do convolution to pull out features. Two layers that do max-pooling to shrink the data. Two layers that are linked to sort things out. ReLU functions that kick in to add some twists and turns"
      ]
    },
    {
      "cell_type": "code",
      "execution_count": null,
      "metadata": {
        "id": "61DGkKdgEuvn"
      },
      "outputs": [],
      "source": [
        "class CNNNet(nn.Module):\n",
        "    def __init__(self):\n",
        "        super(CNNNet, self).__init__()\n",
        "        self.conv1 = nn.Conv2d(1, 32, kernel_size=3, stride=1, padding=1)\n",
        "        self.conv2 = nn.Conv2d(32, 64, kernel_size=3, stride=1, padding=1)\n",
        "        self.pool = nn.MaxPool2d(kernel_size=2, stride=2, padding=0)\n",
        "        self.fc1 = nn.Linear(64 * 7 * 7, 128)\n",
        "        self.fc2 = nn.Linear(128, 47)  # 47 output classes for EMNIST ByClass balanced dataset\n",
        "\n",
        "    def forward(self, x):\n",
        "        x = self.pool(F.relu(self.conv1(x)))\n",
        "        x = self.pool(F.relu(self.conv2(x)))\n",
        "        x = x.view(-1, 64 * 7 * 7)\n",
        "        x = F.relu(self.fc1(x))\n",
        "        x = self.fc2(x)\n",
        "        return x"
      ]
    },
    {
      "cell_type": "markdown",
      "metadata": {
        "id": "U_vV28WBEx3k"
      },
      "source": [
        "**->Step 8:Initialize the Model,Loss function and Optimizer**\n",
        "\n",
        "Model: Shows what the neural network looks like.\n",
        "\n",
        "Loss Function: Figures out how off the model's guesses are from the real answers.\n",
        "\n",
        "Optimizer: Changes the model's settings to make the loss smaller.\n"
      ]
    },
    {
      "cell_type": "code",
      "execution_count": null,
      "metadata": {
        "id": "5sUYRu2MG2VR"
      },
      "outputs": [],
      "source": [
        "model = CNNNet()\n",
        "criterion = nn.CrossEntropyLoss()\n",
        "optimizer = optim.Adam(model.parameters(), lr=0.001)"
      ]
    },
    {
      "cell_type": "markdown",
      "metadata": {
        "id": "Kx_Z9jdzG9er"
      },
      "source": [
        "**->Step 9:Training the model**\n",
        "\n",
        "To get the model ready, you gotta go through the training data a bunch of times. This means doing forward and backward passes and tweaking the model's settings to make the loss function as small as possible. It's like teaching the model over and over until it gets better at its job.\n"
      ]
    },
    {
      "cell_type": "code",
      "execution_count": null,
      "metadata": {
        "id": "hZSbhzV4HgIz"
      },
      "outputs": [],
      "source": [
        "def train(model, train_loader, criterion, optimizer, epochs=5):\n",
        "    model.train()\n",
        "    training_losses = []\n",
        "    training_accuracies = []\n",
        "    for epoch in range(epochs):\n",
        "        running_loss = 0.0\n",
        "        correct = 0\n",
        "        total = 0\n",
        "        for images, labels in train_loader:\n",
        "            optimizer.zero_grad()\n",
        "            outputs = model(images)\n",
        "            loss = criterion(outputs, labels)\n",
        "            loss.backward()\n",
        "            optimizer.step()\n",
        "            running_loss += loss.item()\n",
        "\n",
        "            _, predicted = torch.max(outputs.data, 1)\n",
        "            total += labels.size(0)\n",
        "            correct += (predicted == labels).sum().item()\n",
        "\n",
        "        avg_loss = running_loss / len(train_loader)\n",
        "        accuracy = 100. * correct / total\n",
        "        training_losses.append(avg_loss)\n",
        "        training_accuracies.append(accuracy)\n",
        "        print(f'Epoch {epoch+1}, Loss: {avg_loss:.4f}, Accuracy: {accuracy:.2f}%')\n",
        "\n",
        "    return training_losses, training_accuracies"
      ]
    },
    {
      "cell_type": "markdown",
      "metadata": {
        "id": "i6-D-oMQHlRt"
      },
      "source": [
        "**->Step 10:Testing the model**\n",
        "\n",
        "To check how good the model works on new info, you gotta test it out. This means you use a different set of data to see how it does. You make the model guess stuff figure out how far off it is, and see how many it gets right. This shows if the model can handle info it hasn't seen before."
      ]
    },
    {
      "cell_type": "code",
      "execution_count": null,
      "metadata": {
        "id": "uE2mSlz8H8lU"
      },
      "outputs": [],
      "source": [
        "def test(model, test_loader, criterion):\n",
        "    model.eval()\n",
        "    test_loss = 0.0\n",
        "    correct = 0\n",
        "    with torch.no_grad():\n",
        "        for images, labels in test_loader:\n",
        "            outputs = model(images)\n",
        "            test_loss += criterion(outputs, labels).item()\n",
        "            pred = outputs.argmax(dim=1, keepdim=True)\n",
        "            correct += pred.eq(labels.view_as(pred)).sum().item()\n",
        "    test_loss /= len(test_loader.dataset)\n",
        "    test_accuracy = correct / len(test_loader.dataset)\n",
        "    print(f'\\nTest set: Average loss: {test_loss:.4f}, Accuracy: {correct}/{len(test_loader.dataset)} ({100. * test_accuracy:.2f}%)\\n')"
      ]
    },
    {
      "cell_type": "markdown",
      "metadata": {
        "id": "i9SpxCSmICA1"
      },
      "source": [
        "**->Step 11:Visualizing some examples from the dataset**"
      ]
    },
    {
      "cell_type": "code",
      "execution_count": null,
      "metadata": {
        "id": "QXVs4QYwINom"
      },
      "outputs": [],
      "source": [
        "def plot_sample_images(images, labels, num_samples=5):\n",
        "    plt.figure(figsize=(10, 2))\n",
        "    for i in range(num_samples):\n",
        "        plt.subplot(1, num_samples, i+1)\n",
        "        plt.imshow(images[i].view(28, 28), cmap='gray')\n",
        "        plt.title(f\"Label: {chr(labels[i] + 96)}\")  # Convert label to character (assuming 1-indexed)\n",
        "        plt.axis('off')\n",
        "    plt.show()"
      ]
    },
    {
      "cell_type": "markdown",
      "metadata": {
        "id": "EflmB6P8IReK"
      },
      "source": [
        "**->Step 12:Plotting Training loss**\n",
        "\n",
        "Plotting the training loss helps us see how the model's doing as it learns. By putting the average loss for each round on a graph, we can keep an eye on how well the model's picking things up over time.\n"
      ]
    },
    {
      "cell_type": "code",
      "execution_count": null,
      "metadata": {
        "id": "sjqDyuFMIq8s"
      },
      "outputs": [],
      "source": [
        "def plot_training_loss(training_losses):\n",
        "    plt.plot(training_losses, label='Training Loss')\n",
        "    plt.title('Training Loss')\n",
        "    plt.xlabel('Epoch')\n",
        "    plt.ylabel('Loss')\n",
        "    plt.legend()\n",
        "    plt.show()"
      ]
    },
    {
      "cell_type": "markdown",
      "metadata": {
        "id": "STmjC1ewCsbC"
      },
      "source": [
        "**->Step 13:Plotting training accuracy**"
      ]
    },
    {
      "cell_type": "code",
      "execution_count": null,
      "metadata": {
        "id": "sPXMADFEC0Be"
      },
      "outputs": [],
      "source": [
        "def plot_training_accuracy(training_accuracies):\n",
        "    plt.plot(training_accuracies, label='Training Accuracy')\n",
        "    plt.title('Training Accuracy')\n",
        "    plt.xlabel('Epoch')\n",
        "    plt.ylabel('Accuracy (%)')\n",
        "    plt.legend()\n",
        "    plt.show()"
      ]
    },
    {
      "cell_type": "markdown",
      "metadata": {
        "id": "7vr4pV2fIwBJ"
      },
      "source": [
        "**->Step 14:Visualizes Model Prediction**\n",
        "\n",
        "To see how well a model works, you can look at some pictures from the test set. You put these pictures up on a screen, along with what they're supposed to be and what the model thinks they are. This helps you check how good the model is at guessing by looking at it with your own eyes."
      ]
    },
    {
      "cell_type": "code",
      "execution_count": null,
      "metadata": {
        "id": "2YDMiXoyJKsU"
      },
      "outputs": [],
      "source": [
        "def plot_predictions(images, labels, predictions):\n",
        "    plt.figure(figsize=(10, 2))\n",
        "    for i in range(5):\n",
        "        plt.subplot(1, 5, i+1)\n",
        "        plt.imshow(images[i].view(28, 28), cmap='gray')\n",
        "        plt.title(f\"True: {chr(labels[i] + 96)}\\nPred: {chr(predictions[i] + 96)}\")  # Convert label to character (assuming 1-indexed)\n",
        "        plt.axis('off')\n",
        "    plt.show()"
      ]
    },
    {
      "cell_type": "markdown",
      "metadata": {
        "id": "ASLkab9HJRGV"
      },
      "source": [
        "**->Step 15:Train The Model**"
      ]
    },
    {
      "cell_type": "code",
      "execution_count": null,
      "metadata": {
        "colab": {
          "base_uri": "https://localhost:8080/"
        },
        "id": "ToD2FhMOJmr0",
        "outputId": "fb85121c-27ee-497a-c996-f5be27b8e87d"
      },
      "outputs": [
        {
          "output_type": "stream",
          "name": "stdout",
          "text": [
            "Epoch 1, Loss: 0.6657, Accuracy: 79.01%\n",
            "Epoch 2, Loss: 0.3914, Accuracy: 86.39%\n",
            "Epoch 3, Loss: 0.3383, Accuracy: 87.82%\n",
            "Epoch 4, Loss: 0.3043, Accuracy: 88.80%\n",
            "Epoch 5, Loss: 0.2769, Accuracy: 89.55%\n"
          ]
        }
      ],
      "source": [
        "training_losses, training_accuracies = train(model, train_loader, criterion, optimizer, epochs=5)"
      ]
    },
    {
      "cell_type": "markdown",
      "metadata": {
        "id": "ZiQfAuT1Jq-C"
      },
      "source": [
        "**->Step 16:Test the Model**"
      ]
    },
    {
      "cell_type": "code",
      "execution_count": null,
      "metadata": {
        "colab": {
          "base_uri": "https://localhost:8080/"
        },
        "id": "DCm8Oo9NJx4j",
        "outputId": "7ea4d7fa-874c-4f80-f65e-ac4929907fde"
      },
      "outputs": [
        {
          "output_type": "stream",
          "name": "stdout",
          "text": [
            "\n",
            "Test set: Average loss: 0.0004, Accuracy: 16354/18800 (86.99%)\n",
            "\n"
          ]
        }
      ],
      "source": [
        "test(model, test_loader, criterion)"
      ]
    },
    {
      "cell_type": "markdown",
      "metadata": {
        "id": "QdFTBEe8J2Gn"
      },
      "source": [
        "**->Step 17:Visualizing some sample images**"
      ]
    },
    {
      "cell_type": "code",
      "execution_count": null,
      "metadata": {
        "colab": {
          "base_uri": "https://localhost:8080/",
          "height": 131
        },
        "id": "LKRqpXp0KB4Y",
        "outputId": "c07df2fd-9b20-4a4a-d4bf-a0ef89ab2ee0"
      },
      "outputs": [
        {
          "output_type": "stream",
          "name": "stderr",
          "text": [
            "/usr/local/lib/python3.10/dist-packages/IPython/core/pylabtools.py:151: UserWarning: Glyph 137 (\\x89) missing from current font.\n",
            "  fig.canvas.print_figure(bytes_io, **kw)\n"
          ]
        },
        {
          "output_type": "display_data",
          "data": {
            "text/plain": [
              "<Figure size 1000x200 with 5 Axes>"
            ],
            "image/png": "[encoded data removed]"
          },
          "metadata": {}
        }
      ],
      "source": [
        "sample_images, sample_labels = next(iter(train_loader))\n",
        "plot_sample_images(sample_images[:5], sample_labels[:5])"
      ]
    },
    {
      "cell_type": "markdown",
      "metadata": {
        "id": "NW4owCd3KEC_"
      },
      "source": [
        "**->Step 18:Plot training loss**"
      ]
    },
    {
      "cell_type": "code",
      "execution_count": null,
      "metadata": {
        "colab": {
          "base_uri": "https://localhost:8080/",
          "height": 231
        },
        "id": "C42TAQOYKKlv",
        "outputId": "56a62f14-f58c-4058-bdb9-ab4259c1dd36"
      },
      "outputs": [
        {
          "output_type": "display_data",
          "data": {
            "text/plain": [
              "<Figure size 640x480 with 1 Axes>"
            ],
            "image/png": "[encoded data removed]"
          },
          "metadata": {}
        }
      ],
      "source": [
        "plot_training_loss(training_losses)"
      ]
    },
    {
      "cell_type": "markdown",
      "metadata": {
        "id": "LNkvpAawGYgG"
      },
      "source": [
        "**->Step 19:Plot training accuracy**"
      ]
    },
    {
      "cell_type": "code",
      "execution_count": null,
      "metadata": {
        "id": "9uR1z5L_GgBC",
        "outputId": "2e76234e-1b75-4fab-ba0d-69724418c64b",
        "colab": {
          "base_uri": "https://localhost:8080/",
          "height": 236
        }
      },
      "outputs": [
        {
          "output_type": "display_data",
          "data": {
            "text/plain": [
              "<Figure size 640x480 with 1 Axes>"
            ],
            "image/png": "[encoded data removed]"
          },
          "metadata": {}
        }
      ],
      "source": [
        "plot_training_accuracy(training_accuracies)"
      ]
    },
    {
      "cell_type": "markdown",
      "metadata": {
        "id": "ShbZi1O3KStq"
      },
      "source": [
        "**->Step 20:Visualize model prediction**"
      ]
    },
    {
      "cell_type": "code",
      "execution_count": null,
      "metadata": {
        "colab": {
          "base_uri": "https://localhost:8080/",
          "height": 84
        },
        "id": "2Zj2ZMpoKch1",
        "outputId": "9bb8b492-57ec-41c3-fe74-44c1389b6581"
      },
      "outputs": [
        {
          "output_type": "display_data",
          "data": {
            "text/plain": [
              "<Figure size 1000x200 with 5 Axes>"
            ],
            "image/png": "[encoded data removed]"
          },
          "metadata": {}
        }
      ],
      "source": [
        "model.eval()\n",
        "sample_outputs = model(sample_images[:5])\n",
        "_, sample_predictions = torch.max(sample_outputs, 1)\n",
        "plot_predictions(sample_images[:5], sample_labels[:5], sample_predictions)"
      ]
    },
    {
      "cell_type": "markdown",
      "metadata": {
        "id": "zdWJZGFwGq8S"
      },
      "source": [
        "**Conclusion:**\n",
        "\n",
        "We built a CNN model in this project to sort handwritten letters from the EMNIST ByClass dataset. Our model worked well after we trained it for five rounds getting good loss and accuracy scores. The results from training and testing showed that the model can pick up useful details for sorting. We also made pictures of some sample images, training loss, and accuracy to help us understand how well the model was doing and how it was improving. In the end, this CNN model turns out to be a strong way to sort letters.\n",
        "\n",
        "\n",
        "**Model Architecture:**The CNN structure we picked, with its convolutional and connected layers, did a good job at pulling out features and sorting the EMNIST dataset.\n",
        "\n",
        "\n",
        "**Training Results:**Our model got better as we trained it reaching about 89.55% accuracy in training. This shows the CNN design works well.\n",
        "Testing Outcomes: When we tested it on new data, the model hit 86.99% accuracy. This is key for real-world use, as it means the model can handle stuff it hasn't seen before.\n",
        "\n",
        "\n",
        "**Visual Analysis:**We looked at some sample images, what the model thought they were, and how the training went. This gave us a peek into how right the model was and how it learned over time\n"
      ]
    }
  ],
  "metadata": {
    "colab": {
      "provenance": [],
      "include_colab_link": true
    },
    "kernelspec": {
      "display_name": "Python 3",
      "name": "python3"
    },
    "language_info": {
      "name": "python"
    }
  },
  "nbformat": 4,
  "nbformat_minor": 0
}